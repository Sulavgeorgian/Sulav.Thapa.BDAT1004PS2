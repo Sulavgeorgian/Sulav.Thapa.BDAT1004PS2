{
 "cells": [
  {
   "cell_type": "markdown",
   "id": "54087543",
   "metadata": {},
   "source": [
    "# Question-01\n",
    "Consider the following Python module:\n",
    "\n",
    "a = 0\n",
    "\n",
    "def b():\n",
    "\n",
    "global a\n",
    "\n",
    "a = c(a)\n",
    "\n",
    "def c(a):\n",
    "\n",
    "return a + 2\n",
    "\n",
    "After importing the module into the interpreter, you execute:\n",
    "\n",
    "b()\n",
    "\n",
    "b()\n",
    "\n",
    "b()\n",
    "\n",
    "a\n",
    "\n",
    "?\n",
    "\n",
    "What value is displayed when the last expression (a) is evaluated? Explain your answer by indicating what happens in every executed statement."
   ]
  },
  {
   "cell_type": "markdown",
   "id": "6ab14f9f",
   "metadata": {},
   "source": [
    "\n"
   ]
  },
  {
   "cell_type": "markdown",
   "id": "bbc67b38",
   "metadata": {},
   "source": [
    "Answer-\n",
    "\n",
    "Step-1 b(): calls function b updates global variable a by calling c(a) at this point a becomes c(0) which is 0+2 which results a being updated to 2.\n",
    "\n",
    "Step-2 b(): calls function b again which updates global variable a by calling c(a) at this point a becomes c(2) which is 2+2 which results a being updated to 4.\n",
    "\n",
    "Step-3 b(): calls function b again which updates global variable a by calling c(a) at this point a becomes c(4) which is 4+2 results a being updated to 6.\n",
    "\n",
    "Step-4 Finally, the last update value of a is 6 which when execute a it print 6."
   ]
  },
  {
   "cell_type": "code",
   "execution_count": 7,
   "id": "82877c13",
   "metadata": {},
   "outputs": [
    {
     "data": {
      "text/plain": [
       "6"
      ]
     },
     "execution_count": 7,
     "metadata": {},
     "output_type": "execute_result"
    }
   ],
   "source": [
    "#testing the code\n",
    "a = 0\n",
    "def b():\n",
    "    \n",
    "    global a\n",
    "    a = c(a) \n",
    "    \n",
    "def c(a):\n",
    "    return a+2\n",
    "\n",
    "b() # a =0+2 => 2\n",
    "b() # a = 2+2 => 4\n",
    "b() # a = 4+2 =>6\n",
    "a"
   ]
  },
  {
   "cell_type": "markdown",
   "id": "6ff4b746",
   "metadata": {},
   "source": [
    "# Question-02\n",
    "\n",
    "Function fileLength(), given to you, takes the name of a file as input and returns the length of the file:"
   ]
  },
  {
   "cell_type": "code",
   "execution_count": 3,
   "id": "2c766800",
   "metadata": {},
   "outputs": [
    {
     "name": "stdout",
     "output_type": "stream",
     "text": [
      "file  has 123 character\n"
     ]
    }
   ],
   "source": [
    "def fileLength(filename):\n",
    "    \n",
    "    try:\n",
    "        infile = open(filename,'r') #file open\n",
    "        content = infile.read() #file read\n",
    "        infile.close() #file close\n",
    "        file_len = len(content)  #file length calculation\n",
    "        print(f\"file  has {file_len} character\") #printing the len of file\n",
    "        \n",
    "    except FileNotFoundError: # excepion raise if file not exists\n",
    "        print(f\"file {filename} not found\")\n",
    "        \n",
    "        \n",
    "fileLength('midterm.py') #function call\n"
   ]
  },
  {
   "cell_type": "code",
   "execution_count": 5,
   "id": "46e558af",
   "metadata": {},
   "outputs": [
    {
     "name": "stdout",
     "output_type": "stream",
     "text": [
      "file idterm.py not found\n"
     ]
    }
   ],
   "source": [
    "fileLength('idterm.py')"
   ]
  },
  {
   "cell_type": "markdown",
   "id": "818933ba",
   "metadata": {},
   "source": [
    "# Question 3\n",
    "Write a class named Marsupial that can be used as shown below:\n",
    "\n",
    "* m = Marsupial()\n",
    "* m.put_in_pouch('doll')\n",
    "* m.put_in_pouch('firetruck')\n",
    "* m.put_in_pouch('kitten')\n",
    "* m.pouch_contents()\n",
    "* [ 'doll','firetruck','kitten' ]\n",
    "* Now write a class named Kangaroo as a subclass of Marsupial that inherits all the attributes of Marsupial and also:\n",
    "* a. extends the Marsupial init constructor to take, as input, the\n",
    "coordinates x and y of the Kangaroo object,\n",
    "* b. supports method jump that takes number values dx and dy as input and\n",
    "* moves the kangaroo by dx units along the x-axis and by dy units along the * yaxis, and\n",
    "* c. overloads the str operator so it behaves as shown below.\n",
    "* k = Kangaroo(0,0)\n",
    "* print(k)\n",
    "* I am a Kangaroo located at coordinates (0,0)\n",
    "* k.put_in_pouch('doll')\n",
    "* k.put_in_pouch('firetruck')\n",
    "* k.put_in_pouch('kitten')\n",
    "* k.pouch_contents()\n",
    "* ['doll', 'firetruck', 'kitten']\n",
    "* k.jump(1,0)\n",
    "* k.jump(1,0)\n",
    "* k.jump(1,0)\n",
    "* print(k)\n",
    "* I am a Kangaroo located at coordinates (3,0)"
   ]
  },
  {
   "cell_type": "code",
   "execution_count": 5,
   "id": "17dafdc8",
   "metadata": {},
   "outputs": [
    {
     "name": "stdout",
     "output_type": "stream",
     "text": [
      "['doll', 'firetruck', 'kitten']\n",
      "I am Kangaroo located at coordinates (0,0)\n",
      "\n",
      "I am Kangaroo located at coordinates (3,0)\n"
     ]
    }
   ],
   "source": [
    "class Marsupial: #class begin\n",
    "    def __init__(self): #constructor\n",
    "        self.pouch =[] \n",
    "        \n",
    "    def put_m_pouch(self, item): #method define\n",
    "        \n",
    "        self.pouch.append(item)\n",
    "        \n",
    "    def pouch_contents(self):\n",
    "        return self.pouch\n",
    "    \n",
    "m = Marsupial() #instance creating\n",
    "m.put_m_pouch('doll')\n",
    "m.put_m_pouch('firetruck')\n",
    "m.put_m_pouch('kitten')\n",
    "print(m.pouch_contents())\n",
    "              \n",
    "\n",
    "class Kangaroo(Marsupial):\n",
    "    \n",
    "    def __init__(self, x,y):\n",
    "        \n",
    "        super().__init__() #calling constructor of super class\n",
    "        \n",
    "        self.x =x \n",
    "        self.y =y\n",
    "        \n",
    "    def jumps(self, dx,dy):\n",
    "        self.x+=dx\n",
    "        self.y+=dy\n",
    "        \n",
    "    def __str__(self):\n",
    "        return f\"I am Kangaroo located at coordinates ({self.x},{self.y})\"\n",
    "    \n",
    "k = Kangaroo(0,0)\n",
    "\n",
    "print(k)\n",
    "k.put_m_pouch('doll')\n",
    "k.put_m_pouch('firetruck')\n",
    "k.put_m_pouch('kitten')\n",
    "\n",
    "k.pouch_contents()\n",
    "print()\n",
    "k.jumps(1,0)\n",
    "k.jumps(1,0)\n",
    "k.jumps(1,0)\n",
    "print(k)"
   ]
  },
  {
   "cell_type": "markdown",
   "id": "af56e8d1",
   "metadata": {},
   "source": [
    "# Question 4\n",
    "Write function collatz() that takes a positive integer x as input and prints the\n",
    "\n",
    "Collatz sequence starting at x. A Collatz sequence is obtained by repeatedly applying\n",
    "\n",
    "this rule to the previous number x in the sequence:\n",
    "\n",
    "x = {\n",
    "\n",
    "𝑥/2 𝑖𝑓 𝑥 𝑖𝑠 𝑒𝑣𝑒𝑛\n",
    "\n",
    "3𝑥 + 1 𝑖𝑓 𝑥 𝑖𝑠 𝑜𝑑𝑑\n",
    "\n",
    "Your function should stop when the sequence gets to number 1. Your\n",
    "\n",
    "implementation must be recursive, without any loops\n",
    "\n",
    "collatz(1)\n",
    "\n",
    "1\n",
    "\n",
    "collatz(10)\n",
    "\n",
    "10\n",
    "\n",
    "5\n",
    "\n",
    "16\n",
    "\n",
    "8\n",
    "\n",
    "4\n",
    "\n",
    "2\n",
    "\n",
    "1"
   ]
  },
  {
   "cell_type": "code",
   "execution_count": 4,
   "id": "2d745a25",
   "metadata": {},
   "outputs": [
    {
     "name": "stdout",
     "output_type": "stream",
     "text": [
      "1\n",
      "10\n",
      "5\n",
      "16\n",
      "8\n",
      "4\n",
      "2\n",
      "1\n"
     ]
    }
   ],
   "source": [
    "def collatz(x):\n",
    "    \n",
    "    print(x)\n",
    "    \n",
    "    if x ==1:\n",
    "        return \n",
    "    \n",
    "    elif x%2==0:\n",
    "        collatz(x//2) #recursive (calls itself)\n",
    "        \n",
    "    else:\n",
    "        collatz(3*x+1)\n",
    "        \n",
    "collatz(1) #function call\n",
    "\n",
    "collatz(10)"
   ]
  },
  {
   "cell_type": "markdown",
   "id": "bb7b7cc2",
   "metadata": {},
   "source": [
    "# Question 5\n",
    "Write a recursive method binary() that takes a non-negative integer n and prints the binary representation of integer n.\n",
    "\n",
    "binary(0) 0\n",
    "\n",
    "binary(1) 1\n",
    "\n",
    "binary(3) 11\n",
    "\n",
    "binary(9) 1001"
   ]
  },
  {
   "cell_type": "code",
   "execution_count": 8,
   "id": "1ecafd84",
   "metadata": {},
   "outputs": [
    {
     "name": "stdout",
     "output_type": "stream",
     "text": [
      "0 \n",
      "1 \n",
      "1 1 \n",
      "1 0 0 1 "
     ]
    }
   ],
   "source": [
    "def binary(n):\n",
    "    \n",
    "    if n>1:\n",
    "        \n",
    "        binary(n//2) #if condition is true it calls itsel with n//2\n",
    "        \n",
    "    print(n%2, end =' ') #remainder is printed \n",
    "    \n",
    "binary(0)\n",
    "print()\n",
    "binary(1)\n",
    "print()\n",
    "binary(3)\n",
    "print()\n",
    "binary(9)"
   ]
  },
  {
   "cell_type": "markdown",
   "id": "2a70e222",
   "metadata": {},
   "source": [
    "# Question 6\n",
    "Implement a class named HeadingParser that can be used to parse an HTML document, and retrieve and print all the headings in * the document. You should implement your class as a subclass of HTMLParser, defined in Standard Library module html.parser. * * When fed a string containing HTML code, your class should print the headings, one per line and in the order in which they * * * appear in the document. Each heading should be indented as follows: an h1 heading should have\n",
    "\n",
    "indentation 0, and h2 heading should have indentation 1, etc. Test your implementation using w3c.html.\n",
    "\n",
    "infile = open('w3c.html')\n",
    "\n",
    "content = infile.read()\n",
    "\n",
    "infile.close()\n",
    "\n",
    "hp = HeadingParser()\n",
    "\n",
    "hp.feed(content)\n",
    "\n",
    "# W3C Mission\n",
    "\n",
    "Principles"
   ]
  },
  {
   "cell_type": "code",
   "execution_count": 6,
   "id": "72e8d087",
   "metadata": {},
   "outputs": [
    {
     "name": "stdout",
     "output_type": "stream",
     "text": [
      "W3C Mission\n",
      "  Principles\n"
     ]
    }
   ],
   "source": [
    "from html.parser import HTMLParser #importing module\n",
    " \n",
    "class HeadingParser(HTMLParser): #new class\n",
    "    \n",
    "    def __init__(self):\n",
    "        super().__init__()\n",
    "        self.inside_heading = False\n",
    "        self.current_heading_level = None\n",
    "        \n",
    "    def handle_starttag(self, tag,attrs): #method check for start tag\n",
    "        if tag.startswith('h') and tag[1:].isdigit():\n",
    "            self.inside_heading = True\n",
    "            self.current_heading_level = int(tag[1:])\n",
    "            \n",
    "    def handle_endtag(self,tag): #method check for end tag\n",
    "        if tag.startswith('h') and tag[1:].isdigit():\n",
    "            self.inside_heading = False\n",
    "            self.current_heading_level = None\n",
    "            \n",
    "    def handle_data(self, data): #this method set indentation \n",
    "        if self.inside_heading and self.current_heading_level is not None:\n",
    "            indentation = ' '*(self.current_heading_level-1)*2 \n",
    "            print(f\"{indentation}{data}\")\n",
    "            \n",
    "with open(\"w3c.html\", 'r') as infile: #file read\n",
    "    \n",
    "    content = infile.read()\n",
    "    infile.close()\n",
    "    \n",
    "hp = HeadingParser()\n",
    "hp.feed(content)\n",
    "        "
   ]
  },
  {
   "cell_type": "markdown",
   "id": "e43a5ef2",
   "metadata": {},
   "source": [
    "# Question 7\n",
    "Implement recursive function webdir() that takes as input: a URL (as a string) and non-negative integers depth and indent.\n",
    "\n",
    "Your function should visit every web page reachable from the starting URL web page in depth clicks or less, and print each\n",
    "\n",
    "web page's URL. As shown below, indentation, specified by indent, should be used to indicate the depth of a URL."
   ]
  },
  {
   "cell_type": "code",
   "execution_count": 7,
   "id": "da2389e7",
   "metadata": {},
   "outputs": [
    {
     "name": "stdout",
     "output_type": "stream",
     "text": [
      "http://reed.cs.depaul.edu/lperkovic/csc242/test1.html\n"
     ]
    }
   ],
   "source": [
    "import requests\n",
    "from bs4 import BeautifulSoup #web scrape library\n",
    "\n",
    "def webdir(url, depth, indent):\n",
    "    if depth == 0:\n",
    "        return\n",
    "\n",
    "    try:\n",
    "        response = requests.get(url)\n",
    "        soup = BeautifulSoup(response.text, 'html.parser')\n",
    "\n",
    "        \n",
    "        print(' ' * indent + url) #Print the current URL with appropriate indentation\n",
    "\n",
    "        #Extract links from the page and recursively call webdir for each link\n",
    "        links = soup.find_all('a', href=True)\n",
    "        for link in links:\n",
    "            next_url = link['href']\n",
    "            webdir(next_url, depth - 1, indent + 4)\n",
    "\n",
    "    except Exception as e:\n",
    "        print(f\"Error accessing {url}: {e}\")\n",
    "\n",
    "\n",
    "webdir('http://reed.cs.depaul.edu/lperkovic/csc242/test1.html', 2, 0)"
   ]
  },
  {
   "cell_type": "markdown",
   "id": "1f8f83a3",
   "metadata": {},
   "source": [
    "# Question 8\n",
    "\n",
    "Write SQL queries on the below database table that return:\n",
    "\n",
    "a) All the temperature data.\n",
    "\n",
    "b) All the cities, but without repetition.\n",
    "\n",
    "c) All the records for India.\n",
    "\n",
    "d) All the Fall records\n",
    "\n",
    "e) The city, country, and season for which the average rainfall is between 200 and 400 millimeters.\n",
    "\n",
    "f) The city and country for which the average Fall temperature is above 20 degrees, in increasing temperature order.\n",
    "\n",
    "g) The total annual rainfall for Cairo.\n",
    "\n",
    "h) The total rainfall for each season.\n",
    "\n",
    " ## Database name set as Weather_db"
   ]
  },
  {
   "cell_type": "code",
   "execution_count": null,
   "id": "5cb96fd8",
   "metadata": {},
   "outputs": [],
   "source": [
    "SELECT Temperature FROM Weather_db;\n",
    "\n",
    "\n",
    "SELECT DISTINCT City FROM Weather_db;\n",
    "\n",
    "\n",
    "SELECT * FROM Weather_db WHERE Country = 'India';\n",
    "\n",
    "\n",
    "SELECT * FROM Weather_db WHERE Season = 'Fall';\n",
    "\n",
    "\n",
    "SELECT City, Country, Season FROM Weather_db GROUP BY City, Country, Season HAVING AVG( Rainfall) BETWEEN 200 AND 400;\n",
    "\n",
    "\n",
    "SELECT City, Country \n",
    "FROM Weather_db WHERE Season ='Fall' \n",
    "GROUP BY City, Country \n",
    "HAVING AVG(Temperature)>20 \n",
    "ORDER By AVG(Temperature) ASC;\n",
    "\n",
    "\n",
    "SELECT SUM (Rainfall) AS TotalRainfall\n",
    "FROM Weather_db WHERE City ='Cairo'\n",
    "\n",
    "\n",
    "SELECT Season, SUM(RainFall) AS TotalRainfall FROM Weather_db GROUP BY Season;"
   ]
  },
  {
   "cell_type": "markdown",
   "id": "e9f3e8cc",
   "metadata": {},
   "source": [
    "# Question 9\n",
    "Suppose list words is defined as follows:\n",
    "\n",
    "words = ['The', 'quick', 'brown', 'fox', 'jumps', 'over', 'the', 'lazy', 'dog']\n",
    "\n",
    "Write list comprehension expressions that use list words and generate the following lists:\n",
    "\n",
    "a) ['THE', 'QUICK', 'BROWN', 'FOX', 'JUMPS', 'OVER', 'THE', \n",
    "'LAZY', 'DOG']\n",
    "\n",
    "b) ['the', 'quick', 'brown', 'fox', 'jumps', 'over', 'the', \n",
    "'lazy', 'dog']\n",
    "\n",
    "c) [3, 5, 5, 3, 5, 4, 3, 4, 3] (the list of lengths of words in list\n",
    "words).\n",
    "\n",
    "d) [['THE', 'the', 3], ['QUICK', 'quick', 5], ['BROWN',\n",
    "'brown', 5], ['FOX', 'fox', 3], ['JUMPS', 'jumps', 5],\n",
    "['OVER', 'over', 4], ['THE', 'the', 3], ['LAZY', 'lazy',\n",
    "\n",
    "4], ['DOG', 'dog', 3]] (the list containing a list for every word of list \n",
    "words, where each list contains the word in uppercase and lowercase and the \n",
    "length of the word.)\n",
    "\n",
    "e) ['The', 'quick', 'brown', 'fox', 'jumps', 'over', 'the', \n",
    "'lazy', 'dog'] (the list of words in list words containing 4 or more \n",
    "characters."
   ]
  },
  {
   "cell_type": "code",
   "execution_count": 4,
   "id": "a8ec20ae",
   "metadata": {},
   "outputs": [
    {
     "name": "stdout",
     "output_type": "stream",
     "text": [
      "['THE', 'QUICK', 'BROWN', 'FOX', 'JUMPS', 'OVER', 'THE', 'LAZY', 'DOG']\n"
     ]
    }
   ],
   "source": [
    "words = ['The','quick','brown','fox','jumps','over','the','lazy','dog']\n",
    "\n",
    "a_results = [data.upper() for data in words]\n",
    "\n",
    "b_results = [data.lower() for data in words]\n",
    "\n",
    "c_results = [len(data) for data in words]\n",
    "\n",
    "d_results = [[data.upper(),data.lower(), len(data)] for data in words]\n",
    "\n",
    "e_results = [data for data in words if len(data)>=4]\n",
    "\n",
    "print(a_results)"
   ]
  },
  {
   "cell_type": "code",
   "execution_count": 5,
   "id": "b290e1a9",
   "metadata": {},
   "outputs": [
    {
     "name": "stdout",
     "output_type": "stream",
     "text": [
      "['the', 'quick', 'brown', 'fox', 'jumps', 'over', 'the', 'lazy', 'dog']\n"
     ]
    }
   ],
   "source": [
    "print(b_results)"
   ]
  },
  {
   "cell_type": "code",
   "execution_count": 6,
   "id": "61112a71",
   "metadata": {},
   "outputs": [
    {
     "name": "stdout",
     "output_type": "stream",
     "text": [
      "[3, 5, 5, 3, 5, 4, 3, 4, 3]\n"
     ]
    }
   ],
   "source": [
    "print(c_results)"
   ]
  },
  {
   "cell_type": "code",
   "execution_count": 7,
   "id": "40a06991",
   "metadata": {},
   "outputs": [
    {
     "name": "stdout",
     "output_type": "stream",
     "text": [
      "[['THE', 'the', 3], ['QUICK', 'quick', 5], ['BROWN', 'brown', 5], ['FOX', 'fox', 3], ['JUMPS', 'jumps', 5], ['OVER', 'over', 4], ['THE', 'the', 3], ['LAZY', 'lazy', 4], ['DOG', 'dog', 3]]\n"
     ]
    }
   ],
   "source": [
    "print(d_results)"
   ]
  },
  {
   "cell_type": "code",
   "execution_count": 8,
   "id": "b0e98a63",
   "metadata": {},
   "outputs": [
    {
     "name": "stdout",
     "output_type": "stream",
     "text": [
      "['quick', 'brown', 'jumps', 'over', 'lazy']\n"
     ]
    }
   ],
   "source": [
    "print(e_results)"
   ]
  },
  {
   "cell_type": "code",
   "execution_count": null,
   "id": "6da94516",
   "metadata": {},
   "outputs": [],
   "source": []
  }
 ],
 "metadata": {
  "kernelspec": {
   "display_name": "Python 3 (ipykernel)",
   "language": "python",
   "name": "python3"
  },
  "language_info": {
   "codemirror_mode": {
    "name": "ipython",
    "version": 3
   },
   "file_extension": ".py",
   "mimetype": "text/x-python",
   "name": "python",
   "nbconvert_exporter": "python",
   "pygments_lexer": "ipython3",
   "version": "3.11.5"
  }
 },
 "nbformat": 4,
 "nbformat_minor": 5
}
